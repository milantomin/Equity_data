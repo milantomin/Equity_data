{
 "cells": [
  {
   "cell_type": "code",
   "execution_count": 1,
   "metadata": {},
   "outputs": [],
   "source": [
    "import pandas as pd"
   ]
  },
  {
   "cell_type": "code",
   "execution_count": 2,
   "metadata": {},
   "outputs": [],
   "source": [
    "df = pd.read_csv('equity_data.csv')"
   ]
  },
  {
   "cell_type": "code",
   "execution_count": 3,
   "metadata": {
    "scrolled": true
   },
   "outputs": [
    {
     "data": {
      "text/html": [
       "<div>\n",
       "<style scoped>\n",
       "    .dataframe tbody tr th:only-of-type {\n",
       "        vertical-align: middle;\n",
       "    }\n",
       "\n",
       "    .dataframe tbody tr th {\n",
       "        vertical-align: top;\n",
       "    }\n",
       "\n",
       "    .dataframe thead th {\n",
       "        text-align: right;\n",
       "    }\n",
       "</style>\n",
       "<table border=\"1\" class=\"dataframe\">\n",
       "  <thead>\n",
       "    <tr style=\"text-align: right;\">\n",
       "      <th></th>\n",
       "      <th>Company Name</th>\n",
       "      <th>Date</th>\n",
       "      <th>Ticker</th>\n",
       "      <th>Returns</th>\n",
       "      <th>Capitalization</th>\n",
       "      <th>Mkt Cap</th>\n",
       "      <th>FCF Yield</th>\n",
       "      <th>Momentum</th>\n",
       "      <th>Sales Growth 1Y</th>\n",
       "      <th>Sales Growth 5Y</th>\n",
       "      <th>EPS Revision</th>\n",
       "    </tr>\n",
       "  </thead>\n",
       "  <tbody>\n",
       "    <tr>\n",
       "      <th>0</th>\n",
       "      <td>AAC Holdings, Inc.</td>\n",
       "      <td>12/31/2014</td>\n",
       "      <td>AAC</td>\n",
       "      <td>-17.46</td>\n",
       "      <td>1</td>\n",
       "      <td>651.82</td>\n",
       "      <td>NaN</td>\n",
       "      <td>NaN</td>\n",
       "      <td>75.27</td>\n",
       "      <td>75.27</td>\n",
       "      <td>1.15</td>\n",
       "    </tr>\n",
       "    <tr>\n",
       "      <th>1</th>\n",
       "      <td>AAC Holdings, Inc.</td>\n",
       "      <td>1/30/2015</td>\n",
       "      <td>AAC</td>\n",
       "      <td>41.03</td>\n",
       "      <td>1</td>\n",
       "      <td>537.99</td>\n",
       "      <td>NaN</td>\n",
       "      <td>NaN</td>\n",
       "      <td>75.27</td>\n",
       "      <td>75.27</td>\n",
       "      <td>1.01</td>\n",
       "    </tr>\n",
       "    <tr>\n",
       "      <th>2</th>\n",
       "      <td>AAC Holdings, Inc.</td>\n",
       "      <td>2/27/2015</td>\n",
       "      <td>AAC</td>\n",
       "      <td>-15.03</td>\n",
       "      <td>1</td>\n",
       "      <td>758.71</td>\n",
       "      <td>-1.18</td>\n",
       "      <td>NaN</td>\n",
       "      <td>75.27</td>\n",
       "      <td>75.27</td>\n",
       "      <td>1.09</td>\n",
       "    </tr>\n",
       "    <tr>\n",
       "      <th>3</th>\n",
       "      <td>AAC Holdings, Inc.</td>\n",
       "      <td>3/31/2015</td>\n",
       "      <td>AAC</td>\n",
       "      <td>13.34</td>\n",
       "      <td>1</td>\n",
       "      <td>666.06</td>\n",
       "      <td>-1.18</td>\n",
       "      <td>NaN</td>\n",
       "      <td>14.88</td>\n",
       "      <td>41.72</td>\n",
       "      <td>1.07</td>\n",
       "    </tr>\n",
       "    <tr>\n",
       "      <th>4</th>\n",
       "      <td>AAC Holdings, Inc.</td>\n",
       "      <td>4/30/2015</td>\n",
       "      <td>AAC</td>\n",
       "      <td>12.12</td>\n",
       "      <td>1</td>\n",
       "      <td>756.97</td>\n",
       "      <td>-1.18</td>\n",
       "      <td>NaN</td>\n",
       "      <td>14.88</td>\n",
       "      <td>41.72</td>\n",
       "      <td>1.07</td>\n",
       "    </tr>\n",
       "  </tbody>\n",
       "</table>\n",
       "</div>"
      ],
      "text/plain": [
       "         Company Name        Date Ticker  Returns  Capitalization Mkt Cap  \\\n",
       "0  AAC Holdings, Inc.  12/31/2014    AAC   -17.46               1  651.82   \n",
       "1  AAC Holdings, Inc.   1/30/2015    AAC    41.03               1  537.99   \n",
       "2  AAC Holdings, Inc.   2/27/2015    AAC   -15.03               1  758.71   \n",
       "3  AAC Holdings, Inc.   3/31/2015    AAC    13.34               1  666.06   \n",
       "4  AAC Holdings, Inc.   4/30/2015    AAC    12.12               1  756.97   \n",
       "\n",
       "  FCF Yield Momentum Sales Growth 1Y Sales Growth 5Y EPS Revision  \n",
       "0       NaN      NaN           75.27           75.27         1.15  \n",
       "1       NaN      NaN           75.27           75.27         1.01  \n",
       "2     -1.18      NaN           75.27           75.27         1.09  \n",
       "3     -1.18      NaN           14.88           41.72         1.07  \n",
       "4     -1.18      NaN           14.88           41.72         1.07  "
      ]
     },
     "execution_count": 3,
     "metadata": {},
     "output_type": "execute_result"
    }
   ],
   "source": [
    "df.head()"
   ]
  },
  {
   "cell_type": "code",
   "execution_count": 4,
   "metadata": {},
   "outputs": [
    {
     "data": {
      "text/html": [
       "<div>\n",
       "<style scoped>\n",
       "    .dataframe tbody tr th:only-of-type {\n",
       "        vertical-align: middle;\n",
       "    }\n",
       "\n",
       "    .dataframe tbody tr th {\n",
       "        vertical-align: top;\n",
       "    }\n",
       "\n",
       "    .dataframe thead th {\n",
       "        text-align: right;\n",
       "    }\n",
       "</style>\n",
       "<table border=\"1\" class=\"dataframe\">\n",
       "  <thead>\n",
       "    <tr style=\"text-align: right;\">\n",
       "      <th></th>\n",
       "      <th>Returns</th>\n",
       "      <th>Capitalization</th>\n",
       "    </tr>\n",
       "  </thead>\n",
       "  <tbody>\n",
       "    <tr>\n",
       "      <th>count</th>\n",
       "      <td>377684.000000</td>\n",
       "      <td>379119.0</td>\n",
       "    </tr>\n",
       "    <tr>\n",
       "      <th>mean</th>\n",
       "      <td>0.771014</td>\n",
       "      <td>1.0</td>\n",
       "    </tr>\n",
       "    <tr>\n",
       "      <th>std</th>\n",
       "      <td>13.905732</td>\n",
       "      <td>0.0</td>\n",
       "    </tr>\n",
       "    <tr>\n",
       "      <th>min</th>\n",
       "      <td>-98.980000</td>\n",
       "      <td>1.0</td>\n",
       "    </tr>\n",
       "    <tr>\n",
       "      <th>25%</th>\n",
       "      <td>-5.450000</td>\n",
       "      <td>1.0</td>\n",
       "    </tr>\n",
       "    <tr>\n",
       "      <th>50%</th>\n",
       "      <td>0.670000</td>\n",
       "      <td>1.0</td>\n",
       "    </tr>\n",
       "    <tr>\n",
       "      <th>75%</th>\n",
       "      <td>6.630000</td>\n",
       "      <td>1.0</td>\n",
       "    </tr>\n",
       "    <tr>\n",
       "      <th>max</th>\n",
       "      <td>890.390000</td>\n",
       "      <td>1.0</td>\n",
       "    </tr>\n",
       "  </tbody>\n",
       "</table>\n",
       "</div>"
      ],
      "text/plain": [
       "             Returns  Capitalization\n",
       "count  377684.000000        379119.0\n",
       "mean        0.771014             1.0\n",
       "std        13.905732             0.0\n",
       "min       -98.980000             1.0\n",
       "25%        -5.450000             1.0\n",
       "50%         0.670000             1.0\n",
       "75%         6.630000             1.0\n",
       "max       890.390000             1.0"
      ]
     },
     "execution_count": 4,
     "metadata": {},
     "output_type": "execute_result"
    }
   ],
   "source": [
    "df.describe()"
   ]
  },
  {
   "cell_type": "code",
   "execution_count": 5,
   "metadata": {},
   "outputs": [],
   "source": [
    "# Interestingly enough, only Returns and Capitalization came back. Let's check types of other columns"
   ]
  },
  {
   "cell_type": "code",
   "execution_count": 6,
   "metadata": {},
   "outputs": [
    {
     "data": {
      "text/plain": [
       "Company Name        object\n",
       "Date                object\n",
       "Ticker              object\n",
       "Returns            float64\n",
       "Capitalization       int64\n",
       "Mkt Cap             object\n",
       "FCF Yield           object\n",
       "Momentum            object\n",
       "Sales Growth 1Y     object\n",
       "Sales Growth 5Y     object\n",
       "EPS Revision        object\n",
       "dtype: object"
      ]
     },
     "execution_count": 6,
     "metadata": {},
     "output_type": "execute_result"
    }
   ],
   "source": [
    "df.dtypes"
   ]
  },
  {
   "cell_type": "code",
   "execution_count": 7,
   "metadata": {},
   "outputs": [],
   "source": [
    "# As suspected, columns like Mkt Cap, Free Cash Flow etc are objects not numbers, let'a change that."
   ]
  },
  {
   "cell_type": "code",
   "execution_count": 8,
   "metadata": {},
   "outputs": [],
   "source": [
    "# First, let's rename column names with SPACE \"_\"\n",
    "df.rename(columns = {'Company Name'  : 'Company_Name',\n",
    "                    'Mkt Cap'        : 'Mkt_Cap',\n",
    "                    'FCF Yield'      : 'FCF_Yield',\n",
    "                    'Sales Growth 1Y': 'Sales_Growth_1Y',\n",
    "                    'Sales Growth 5Y': 'Sales_Growth_5Y',\n",
    "                    'EPS Revision'   : 'EPS_Revision'},\n",
    "           inplace = True) "
   ]
  },
  {
   "cell_type": "code",
   "execution_count": 9,
   "metadata": {},
   "outputs": [
    {
     "data": {
      "text/plain": [
       "Company_Name        object\n",
       "Date                object\n",
       "Ticker              object\n",
       "Returns            float64\n",
       "Capitalization       int64\n",
       "Mkt_Cap             object\n",
       "FCF_Yield           object\n",
       "Momentum            object\n",
       "Sales_Growth_1Y     object\n",
       "Sales_Growth_5Y     object\n",
       "EPS_Revision        object\n",
       "dtype: object"
      ]
     },
     "execution_count": 9,
     "metadata": {},
     "output_type": "execute_result"
    }
   ],
   "source": [
    "# Quality check\n",
    "df.dtypes"
   ]
  },
  {
   "cell_type": "code",
   "execution_count": 10,
   "metadata": {},
   "outputs": [
    {
     "data": {
      "text/plain": [
       "Company_Name           0\n",
       "Date                   0\n",
       "Ticker                 0\n",
       "Returns             1435\n",
       "Capitalization         0\n",
       "Mkt_Cap               57\n",
       "FCF_Yield          15973\n",
       "Momentum           12740\n",
       "Sales_Growth_1Y     7960\n",
       "Sales_Growth_5Y     5851\n",
       "EPS_Revision       21802\n",
       "dtype: int64"
      ]
     },
     "execution_count": 10,
     "metadata": {},
     "output_type": "execute_result"
    }
   ],
   "source": [
    "# We can't convert NaN to number, so let's change NaN to zero because that will not affect out analysis.\n",
    "df.isna().sum()"
   ]
  },
  {
   "cell_type": "code",
   "execution_count": 11,
   "metadata": {
    "scrolled": true
   },
   "outputs": [],
   "source": [
    "# change NaN to zero values\n",
    "df.loc[df['Returns'].isnull(), 'Returns'] = '0'\n",
    "df.loc[df['Mkt_Cap'].isnull(), 'Mkt_Cap'] = '0'\n",
    "df.loc[df['FCF_Yield'].isnull(), 'FCF_Yield'] = '0'\n",
    "df.loc[df['Momentum'].isnull(), 'Momentum'] = '0'\n",
    "df.loc[df['Sales_Growth_1Y'].isnull(), 'Sales_Growth_1Y'] = '0'\n",
    "df.loc[df['Sales_Growth_5Y'].isnull(), 'Sales_Growth_5Y'] = '0'\n",
    "df.loc[df['EPS_Revision'].isnull(), 'EPS_Revision'] = '0'"
   ]
  },
  {
   "cell_type": "code",
   "execution_count": 12,
   "metadata": {},
   "outputs": [
    {
     "data": {
      "text/plain": [
       "Company_Name       0\n",
       "Date               0\n",
       "Ticker             0\n",
       "Returns            0\n",
       "Capitalization     0\n",
       "Mkt_Cap            0\n",
       "FCF_Yield          0\n",
       "Momentum           0\n",
       "Sales_Growth_1Y    0\n",
       "Sales_Growth_5Y    0\n",
       "EPS_Revision       0\n",
       "dtype: int64"
      ]
     },
     "execution_count": 12,
     "metadata": {},
     "output_type": "execute_result"
    }
   ],
   "source": [
    "# Quality check\n",
    "df.isna().sum()"
   ]
  },
  {
   "cell_type": "code",
   "execution_count": 13,
   "metadata": {},
   "outputs": [
    {
     "data": {
      "text/plain": [
       "Company_Name       object\n",
       "Date               object\n",
       "Ticker             object\n",
       "Returns            object\n",
       "Capitalization      int64\n",
       "Mkt_Cap            object\n",
       "FCF_Yield          object\n",
       "Momentum           object\n",
       "Sales_Growth_1Y    object\n",
       "Sales_Growth_5Y    object\n",
       "EPS_Revision       object\n",
       "dtype: object"
      ]
     },
     "execution_count": 13,
     "metadata": {},
     "output_type": "execute_result"
    }
   ],
   "source": [
    "df.dtypes"
   ]
  },
  {
   "cell_type": "code",
   "execution_count": 14,
   "metadata": {},
   "outputs": [],
   "source": [
    "# Converting object to number/float\n",
    "df['Returns'] = df.Returns.astype(float)"
   ]
  },
  {
   "cell_type": "code",
   "execution_count": 15,
   "metadata": {},
   "outputs": [
    {
     "data": {
      "text/plain": [
       "Company_Name        object\n",
       "Date                object\n",
       "Ticker              object\n",
       "Returns            float64\n",
       "Capitalization       int64\n",
       "Mkt_Cap             object\n",
       "FCF_Yield           object\n",
       "Momentum            object\n",
       "Sales_Growth_1Y     object\n",
       "Sales_Growth_5Y     object\n",
       "EPS_Revision        object\n",
       "dtype: object"
      ]
     },
     "execution_count": 15,
     "metadata": {},
     "output_type": "execute_result"
    }
   ],
   "source": [
    "# Returns column is now float64\n",
    "df.dtypes"
   ]
  },
  {
   "cell_type": "code",
   "execution_count": 16,
   "metadata": {},
   "outputs": [
    {
     "ename": "ValueError",
     "evalue": "could not convert string to float: '1,130.74'",
     "output_type": "error",
     "traceback": [
      "\u001b[0;31m---------------------------------------------------------------------------\u001b[0m",
      "\u001b[0;31mValueError\u001b[0m                                Traceback (most recent call last)",
      "\u001b[0;32m<ipython-input-16-249e607076f8>\u001b[0m in \u001b[0;36m<module>\u001b[0;34m\u001b[0m\n\u001b[1;32m      1\u001b[0m \u001b[0;31m# Next let's do Mkt_Cap\u001b[0m\u001b[0;34m\u001b[0m\u001b[0;34m\u001b[0m\u001b[0;34m\u001b[0m\u001b[0m\n\u001b[0;32m----> 2\u001b[0;31m \u001b[0mdf\u001b[0m\u001b[0;34m[\u001b[0m\u001b[0;34m'Mkt_Cap'\u001b[0m\u001b[0;34m]\u001b[0m \u001b[0;34m=\u001b[0m \u001b[0mdf\u001b[0m\u001b[0;34m.\u001b[0m\u001b[0mMkt_Cap\u001b[0m\u001b[0;34m.\u001b[0m\u001b[0mastype\u001b[0m\u001b[0;34m(\u001b[0m\u001b[0mfloat\u001b[0m\u001b[0;34m)\u001b[0m\u001b[0;34m\u001b[0m\u001b[0;34m\u001b[0m\u001b[0m\n\u001b[0m",
      "\u001b[0;32m/anaconda3/lib/python3.7/site-packages/pandas/core/generic.py\u001b[0m in \u001b[0;36mastype\u001b[0;34m(self, dtype, copy, errors, **kwargs)\u001b[0m\n\u001b[1;32m   5689\u001b[0m             \u001b[0;31m# else, only a single dtype is given\u001b[0m\u001b[0;34m\u001b[0m\u001b[0;34m\u001b[0m\u001b[0;34m\u001b[0m\u001b[0m\n\u001b[1;32m   5690\u001b[0m             new_data = self._data.astype(dtype=dtype, copy=copy, errors=errors,\n\u001b[0;32m-> 5691\u001b[0;31m                                          **kwargs)\n\u001b[0m\u001b[1;32m   5692\u001b[0m             \u001b[0;32mreturn\u001b[0m \u001b[0mself\u001b[0m\u001b[0;34m.\u001b[0m\u001b[0m_constructor\u001b[0m\u001b[0;34m(\u001b[0m\u001b[0mnew_data\u001b[0m\u001b[0;34m)\u001b[0m\u001b[0;34m.\u001b[0m\u001b[0m__finalize__\u001b[0m\u001b[0;34m(\u001b[0m\u001b[0mself\u001b[0m\u001b[0;34m)\u001b[0m\u001b[0;34m\u001b[0m\u001b[0;34m\u001b[0m\u001b[0m\n\u001b[1;32m   5693\u001b[0m \u001b[0;34m\u001b[0m\u001b[0m\n",
      "\u001b[0;32m/anaconda3/lib/python3.7/site-packages/pandas/core/internals/managers.py\u001b[0m in \u001b[0;36mastype\u001b[0;34m(self, dtype, **kwargs)\u001b[0m\n\u001b[1;32m    529\u001b[0m \u001b[0;34m\u001b[0m\u001b[0m\n\u001b[1;32m    530\u001b[0m     \u001b[0;32mdef\u001b[0m \u001b[0mastype\u001b[0m\u001b[0;34m(\u001b[0m\u001b[0mself\u001b[0m\u001b[0;34m,\u001b[0m \u001b[0mdtype\u001b[0m\u001b[0;34m,\u001b[0m \u001b[0;34m**\u001b[0m\u001b[0mkwargs\u001b[0m\u001b[0;34m)\u001b[0m\u001b[0;34m:\u001b[0m\u001b[0;34m\u001b[0m\u001b[0;34m\u001b[0m\u001b[0m\n\u001b[0;32m--> 531\u001b[0;31m         \u001b[0;32mreturn\u001b[0m \u001b[0mself\u001b[0m\u001b[0;34m.\u001b[0m\u001b[0mapply\u001b[0m\u001b[0;34m(\u001b[0m\u001b[0;34m'astype'\u001b[0m\u001b[0;34m,\u001b[0m \u001b[0mdtype\u001b[0m\u001b[0;34m=\u001b[0m\u001b[0mdtype\u001b[0m\u001b[0;34m,\u001b[0m \u001b[0;34m**\u001b[0m\u001b[0mkwargs\u001b[0m\u001b[0;34m)\u001b[0m\u001b[0;34m\u001b[0m\u001b[0;34m\u001b[0m\u001b[0m\n\u001b[0m\u001b[1;32m    532\u001b[0m \u001b[0;34m\u001b[0m\u001b[0m\n\u001b[1;32m    533\u001b[0m     \u001b[0;32mdef\u001b[0m \u001b[0mconvert\u001b[0m\u001b[0;34m(\u001b[0m\u001b[0mself\u001b[0m\u001b[0;34m,\u001b[0m \u001b[0;34m**\u001b[0m\u001b[0mkwargs\u001b[0m\u001b[0;34m)\u001b[0m\u001b[0;34m:\u001b[0m\u001b[0;34m\u001b[0m\u001b[0;34m\u001b[0m\u001b[0m\n",
      "\u001b[0;32m/anaconda3/lib/python3.7/site-packages/pandas/core/internals/managers.py\u001b[0m in \u001b[0;36mapply\u001b[0;34m(self, f, axes, filter, do_integrity_check, consolidate, **kwargs)\u001b[0m\n\u001b[1;32m    393\u001b[0m                                             copy=align_copy)\n\u001b[1;32m    394\u001b[0m \u001b[0;34m\u001b[0m\u001b[0m\n\u001b[0;32m--> 395\u001b[0;31m             \u001b[0mapplied\u001b[0m \u001b[0;34m=\u001b[0m \u001b[0mgetattr\u001b[0m\u001b[0;34m(\u001b[0m\u001b[0mb\u001b[0m\u001b[0;34m,\u001b[0m \u001b[0mf\u001b[0m\u001b[0;34m)\u001b[0m\u001b[0;34m(\u001b[0m\u001b[0;34m**\u001b[0m\u001b[0mkwargs\u001b[0m\u001b[0;34m)\u001b[0m\u001b[0;34m\u001b[0m\u001b[0;34m\u001b[0m\u001b[0m\n\u001b[0m\u001b[1;32m    396\u001b[0m             \u001b[0mresult_blocks\u001b[0m \u001b[0;34m=\u001b[0m \u001b[0m_extend_blocks\u001b[0m\u001b[0;34m(\u001b[0m\u001b[0mapplied\u001b[0m\u001b[0;34m,\u001b[0m \u001b[0mresult_blocks\u001b[0m\u001b[0;34m)\u001b[0m\u001b[0;34m\u001b[0m\u001b[0;34m\u001b[0m\u001b[0m\n\u001b[1;32m    397\u001b[0m \u001b[0;34m\u001b[0m\u001b[0m\n",
      "\u001b[0;32m/anaconda3/lib/python3.7/site-packages/pandas/core/internals/blocks.py\u001b[0m in \u001b[0;36mastype\u001b[0;34m(self, dtype, copy, errors, values, **kwargs)\u001b[0m\n\u001b[1;32m    532\u001b[0m     \u001b[0;32mdef\u001b[0m \u001b[0mastype\u001b[0m\u001b[0;34m(\u001b[0m\u001b[0mself\u001b[0m\u001b[0;34m,\u001b[0m \u001b[0mdtype\u001b[0m\u001b[0;34m,\u001b[0m \u001b[0mcopy\u001b[0m\u001b[0;34m=\u001b[0m\u001b[0;32mFalse\u001b[0m\u001b[0;34m,\u001b[0m \u001b[0merrors\u001b[0m\u001b[0;34m=\u001b[0m\u001b[0;34m'raise'\u001b[0m\u001b[0;34m,\u001b[0m \u001b[0mvalues\u001b[0m\u001b[0;34m=\u001b[0m\u001b[0;32mNone\u001b[0m\u001b[0;34m,\u001b[0m \u001b[0;34m**\u001b[0m\u001b[0mkwargs\u001b[0m\u001b[0;34m)\u001b[0m\u001b[0;34m:\u001b[0m\u001b[0;34m\u001b[0m\u001b[0;34m\u001b[0m\u001b[0m\n\u001b[1;32m    533\u001b[0m         return self._astype(dtype, copy=copy, errors=errors, values=values,\n\u001b[0;32m--> 534\u001b[0;31m                             **kwargs)\n\u001b[0m\u001b[1;32m    535\u001b[0m \u001b[0;34m\u001b[0m\u001b[0m\n\u001b[1;32m    536\u001b[0m     def _astype(self, dtype, copy=False, errors='raise', values=None,\n",
      "\u001b[0;32m/anaconda3/lib/python3.7/site-packages/pandas/core/internals/blocks.py\u001b[0m in \u001b[0;36m_astype\u001b[0;34m(self, dtype, copy, errors, values, **kwargs)\u001b[0m\n\u001b[1;32m    631\u001b[0m \u001b[0;34m\u001b[0m\u001b[0m\n\u001b[1;32m    632\u001b[0m                     \u001b[0;31m# _astype_nansafe works fine with 1-d only\u001b[0m\u001b[0;34m\u001b[0m\u001b[0;34m\u001b[0m\u001b[0;34m\u001b[0m\u001b[0m\n\u001b[0;32m--> 633\u001b[0;31m                     \u001b[0mvalues\u001b[0m \u001b[0;34m=\u001b[0m \u001b[0mastype_nansafe\u001b[0m\u001b[0;34m(\u001b[0m\u001b[0mvalues\u001b[0m\u001b[0;34m.\u001b[0m\u001b[0mravel\u001b[0m\u001b[0;34m(\u001b[0m\u001b[0;34m)\u001b[0m\u001b[0;34m,\u001b[0m \u001b[0mdtype\u001b[0m\u001b[0;34m,\u001b[0m \u001b[0mcopy\u001b[0m\u001b[0;34m=\u001b[0m\u001b[0;32mTrue\u001b[0m\u001b[0;34m)\u001b[0m\u001b[0;34m\u001b[0m\u001b[0;34m\u001b[0m\u001b[0m\n\u001b[0m\u001b[1;32m    634\u001b[0m \u001b[0;34m\u001b[0m\u001b[0m\n\u001b[1;32m    635\u001b[0m                 \u001b[0;31m# TODO(extension)\u001b[0m\u001b[0;34m\u001b[0m\u001b[0;34m\u001b[0m\u001b[0;34m\u001b[0m\u001b[0m\n",
      "\u001b[0;32m/anaconda3/lib/python3.7/site-packages/pandas/core/dtypes/cast.py\u001b[0m in \u001b[0;36mastype_nansafe\u001b[0;34m(arr, dtype, copy, skipna)\u001b[0m\n\u001b[1;32m    700\u001b[0m     \u001b[0;32mif\u001b[0m \u001b[0mcopy\u001b[0m \u001b[0;32mor\u001b[0m \u001b[0mis_object_dtype\u001b[0m\u001b[0;34m(\u001b[0m\u001b[0marr\u001b[0m\u001b[0;34m)\u001b[0m \u001b[0;32mor\u001b[0m \u001b[0mis_object_dtype\u001b[0m\u001b[0;34m(\u001b[0m\u001b[0mdtype\u001b[0m\u001b[0;34m)\u001b[0m\u001b[0;34m:\u001b[0m\u001b[0;34m\u001b[0m\u001b[0;34m\u001b[0m\u001b[0m\n\u001b[1;32m    701\u001b[0m         \u001b[0;31m# Explicit copy, or required since NumPy can't view from / to object.\u001b[0m\u001b[0;34m\u001b[0m\u001b[0;34m\u001b[0m\u001b[0;34m\u001b[0m\u001b[0m\n\u001b[0;32m--> 702\u001b[0;31m         \u001b[0;32mreturn\u001b[0m \u001b[0marr\u001b[0m\u001b[0;34m.\u001b[0m\u001b[0mastype\u001b[0m\u001b[0;34m(\u001b[0m\u001b[0mdtype\u001b[0m\u001b[0;34m,\u001b[0m \u001b[0mcopy\u001b[0m\u001b[0;34m=\u001b[0m\u001b[0;32mTrue\u001b[0m\u001b[0;34m)\u001b[0m\u001b[0;34m\u001b[0m\u001b[0;34m\u001b[0m\u001b[0m\n\u001b[0m\u001b[1;32m    703\u001b[0m \u001b[0;34m\u001b[0m\u001b[0m\n\u001b[1;32m    704\u001b[0m     \u001b[0;32mreturn\u001b[0m \u001b[0marr\u001b[0m\u001b[0;34m.\u001b[0m\u001b[0mview\u001b[0m\u001b[0;34m(\u001b[0m\u001b[0mdtype\u001b[0m\u001b[0;34m)\u001b[0m\u001b[0;34m\u001b[0m\u001b[0;34m\u001b[0m\u001b[0m\n",
      "\u001b[0;31mValueError\u001b[0m: could not convert string to float: '1,130.74'"
     ]
    }
   ],
   "source": [
    "# Next let's do Mkt_Cap\n",
    "df['Mkt_Cap'] = df.Mkt_Cap.astype(float)"
   ]
  },
  {
   "cell_type": "code",
   "execution_count": 17,
   "metadata": {},
   "outputs": [],
   "source": [
    "# There is a string error. We can't convert A to a number so, let's see what the problem is"
   ]
  },
  {
   "cell_type": "code",
   "execution_count": 18,
   "metadata": {},
   "outputs": [],
   "source": [
    "# After inspecting '1,130.74' it seems that the comma is problematic, so let's strip it out"
   ]
  },
  {
   "cell_type": "code",
   "execution_count": 19,
   "metadata": {},
   "outputs": [],
   "source": [
    "# Converting to float but also stipping the comma so we get a string number that we can convert\n",
    "df['Mkt_Cap'] = df.Mkt_Cap.str.replace(',', '').astype(float)"
   ]
  },
  {
   "cell_type": "code",
   "execution_count": 20,
   "metadata": {},
   "outputs": [],
   "source": [
    "# No error is a good sign"
   ]
  },
  {
   "cell_type": "code",
   "execution_count": 21,
   "metadata": {},
   "outputs": [
    {
     "data": {
      "text/plain": [
       "Company_Name        object\n",
       "Date                object\n",
       "Ticker              object\n",
       "Returns            float64\n",
       "Capitalization       int64\n",
       "Mkt_Cap            float64\n",
       "FCF_Yield           object\n",
       "Momentum            object\n",
       "Sales_Growth_1Y     object\n",
       "Sales_Growth_5Y     object\n",
       "EPS_Revision        object\n",
       "dtype: object"
      ]
     },
     "execution_count": 21,
     "metadata": {},
     "output_type": "execute_result"
    }
   ],
   "source": [
    "# Quality check proves we have sucessfully converted Mkt_Cap object/tring to float/number\n",
    "df.dtypes"
   ]
  },
  {
   "cell_type": "code",
   "execution_count": 22,
   "metadata": {},
   "outputs": [],
   "source": [
    "df['FCF_Yield'] = df.FCF_Yield.str.replace(',', '').astype(float)"
   ]
  },
  {
   "cell_type": "code",
   "execution_count": 23,
   "metadata": {},
   "outputs": [],
   "source": [
    "df['Momentum'] = df.Momentum.str.replace(',', '').astype(float)"
   ]
  },
  {
   "cell_type": "code",
   "execution_count": 24,
   "metadata": {},
   "outputs": [],
   "source": [
    "df['Sales_Growth_1Y'] = df.Sales_Growth_1Y.str.replace(',', '').astype(float)"
   ]
  },
  {
   "cell_type": "code",
   "execution_count": 25,
   "metadata": {},
   "outputs": [],
   "source": [
    "df['Sales_Growth_5Y'] = df.Sales_Growth_5Y.str.replace(',', '').astype(float)"
   ]
  },
  {
   "cell_type": "code",
   "execution_count": 26,
   "metadata": {},
   "outputs": [],
   "source": [
    "df['EPS_Revision'] = df.EPS_Revision.str.replace(',', '').astype(float)"
   ]
  },
  {
   "cell_type": "code",
   "execution_count": 27,
   "metadata": {},
   "outputs": [
    {
     "data": {
      "text/plain": [
       "Company_Name        object\n",
       "Date                object\n",
       "Ticker              object\n",
       "Returns            float64\n",
       "Capitalization       int64\n",
       "Mkt_Cap            float64\n",
       "FCF_Yield          float64\n",
       "Momentum           float64\n",
       "Sales_Growth_1Y    float64\n",
       "Sales_Growth_5Y    float64\n",
       "EPS_Revision       float64\n",
       "dtype: object"
      ]
     },
     "execution_count": 27,
     "metadata": {},
     "output_type": "execute_result"
    }
   ],
   "source": [
    "# Quality check = great\n",
    "df.dtypes"
   ]
  },
  {
   "cell_type": "code",
   "execution_count": 28,
   "metadata": {},
   "outputs": [
    {
     "data": {
      "text/html": [
       "<div>\n",
       "<style scoped>\n",
       "    .dataframe tbody tr th:only-of-type {\n",
       "        vertical-align: middle;\n",
       "    }\n",
       "\n",
       "    .dataframe tbody tr th {\n",
       "        vertical-align: top;\n",
       "    }\n",
       "\n",
       "    .dataframe thead th {\n",
       "        text-align: right;\n",
       "    }\n",
       "</style>\n",
       "<table border=\"1\" class=\"dataframe\">\n",
       "  <thead>\n",
       "    <tr style=\"text-align: right;\">\n",
       "      <th></th>\n",
       "      <th>Returns</th>\n",
       "      <th>Capitalization</th>\n",
       "      <th>Mkt_Cap</th>\n",
       "      <th>FCF_Yield</th>\n",
       "      <th>Momentum</th>\n",
       "      <th>Sales_Growth_1Y</th>\n",
       "      <th>Sales_Growth_5Y</th>\n",
       "      <th>EPS_Revision</th>\n",
       "    </tr>\n",
       "  </thead>\n",
       "  <tbody>\n",
       "    <tr>\n",
       "      <th>count</th>\n",
       "      <td>379119.000000</td>\n",
       "      <td>379119.0</td>\n",
       "      <td>379119.000000</td>\n",
       "      <td>379119.000000</td>\n",
       "      <td>379119.000000</td>\n",
       "      <td>3.791190e+05</td>\n",
       "      <td>3.791190e+05</td>\n",
       "      <td>3.791190e+05</td>\n",
       "    </tr>\n",
       "    <tr>\n",
       "      <th>mean</th>\n",
       "      <td>0.768096</td>\n",
       "      <td>1.0</td>\n",
       "      <td>6231.498876</td>\n",
       "      <td>1.435006</td>\n",
       "      <td>11.024613</td>\n",
       "      <td>2.542597e+03</td>\n",
       "      <td>4.103473e+03</td>\n",
       "      <td>-2.240330e+02</td>\n",
       "    </tr>\n",
       "    <tr>\n",
       "      <th>std</th>\n",
       "      <td>13.879471</td>\n",
       "      <td>0.0</td>\n",
       "      <td>23489.381721</td>\n",
       "      <td>75.938681</td>\n",
       "      <td>67.903766</td>\n",
       "      <td>4.414335e+05</td>\n",
       "      <td>4.899940e+05</td>\n",
       "      <td>5.258837e+05</td>\n",
       "    </tr>\n",
       "    <tr>\n",
       "      <th>min</th>\n",
       "      <td>-98.980000</td>\n",
       "      <td>1.0</td>\n",
       "      <td>0.000000</td>\n",
       "      <td>-10296.930000</td>\n",
       "      <td>-99.640000</td>\n",
       "      <td>-1.812420e+03</td>\n",
       "      <td>-1.514150e+03</td>\n",
       "      <td>-9.663676e+07</td>\n",
       "    </tr>\n",
       "    <tr>\n",
       "      <th>25%</th>\n",
       "      <td>-5.420000</td>\n",
       "      <td>1.0</td>\n",
       "      <td>384.810000</td>\n",
       "      <td>-0.040000</td>\n",
       "      <td>-15.710000</td>\n",
       "      <td>-1.350000e+00</td>\n",
       "      <td>2.270000e+00</td>\n",
       "      <td>9.400000e-01</td>\n",
       "    </tr>\n",
       "    <tr>\n",
       "      <th>50%</th>\n",
       "      <td>0.630000</td>\n",
       "      <td>1.0</td>\n",
       "      <td>1087.080000</td>\n",
       "      <td>4.020000</td>\n",
       "      <td>4.600000</td>\n",
       "      <td>6.700000e+00</td>\n",
       "      <td>9.070000e+00</td>\n",
       "      <td>1.000000e+00</td>\n",
       "    </tr>\n",
       "    <tr>\n",
       "      <th>75%</th>\n",
       "      <td>6.600000</td>\n",
       "      <td>1.0</td>\n",
       "      <td>3498.320000</td>\n",
       "      <td>7.840000</td>\n",
       "      <td>28.130000</td>\n",
       "      <td>1.925000e+01</td>\n",
       "      <td>2.097000e+01</td>\n",
       "      <td>1.010000e+00</td>\n",
       "    </tr>\n",
       "    <tr>\n",
       "      <th>max</th>\n",
       "      <td>890.390000</td>\n",
       "      <td>1.0</td>\n",
       "      <td>796466.150000</td>\n",
       "      <td>2769.110000</td>\n",
       "      <td>9580.560000</td>\n",
       "      <td>7.846261e+07</td>\n",
       "      <td>7.846261e+07</td>\n",
       "      <td>1.127429e+08</td>\n",
       "    </tr>\n",
       "  </tbody>\n",
       "</table>\n",
       "</div>"
      ],
      "text/plain": [
       "             Returns  Capitalization        Mkt_Cap      FCF_Yield  \\\n",
       "count  379119.000000        379119.0  379119.000000  379119.000000   \n",
       "mean        0.768096             1.0    6231.498876       1.435006   \n",
       "std        13.879471             0.0   23489.381721      75.938681   \n",
       "min       -98.980000             1.0       0.000000  -10296.930000   \n",
       "25%        -5.420000             1.0     384.810000      -0.040000   \n",
       "50%         0.630000             1.0    1087.080000       4.020000   \n",
       "75%         6.600000             1.0    3498.320000       7.840000   \n",
       "max       890.390000             1.0  796466.150000    2769.110000   \n",
       "\n",
       "            Momentum  Sales_Growth_1Y  Sales_Growth_5Y  EPS_Revision  \n",
       "count  379119.000000     3.791190e+05     3.791190e+05  3.791190e+05  \n",
       "mean       11.024613     2.542597e+03     4.103473e+03 -2.240330e+02  \n",
       "std        67.903766     4.414335e+05     4.899940e+05  5.258837e+05  \n",
       "min       -99.640000    -1.812420e+03    -1.514150e+03 -9.663676e+07  \n",
       "25%       -15.710000    -1.350000e+00     2.270000e+00  9.400000e-01  \n",
       "50%         4.600000     6.700000e+00     9.070000e+00  1.000000e+00  \n",
       "75%        28.130000     1.925000e+01     2.097000e+01  1.010000e+00  \n",
       "max      9580.560000     7.846261e+07     7.846261e+07  1.127429e+08  "
      ]
     },
     "execution_count": 28,
     "metadata": {},
     "output_type": "execute_result"
    }
   ],
   "source": [
    "# Now we can perform some statistical checks, let's try it with describe function\n",
    "df.describe()"
   ]
  },
  {
   "cell_type": "code",
   "execution_count": 36,
   "metadata": {},
   "outputs": [],
   "source": [
    "# We can see that we're finally operating with numbers, so math and stats operations are now possible"
   ]
  },
  {
   "cell_type": "code",
   "execution_count": 37,
   "metadata": {},
   "outputs": [],
   "source": [
    "# Convert string to DateTime\n",
    "df['Date'] = pd.to_datetime(df.Date)"
   ]
  },
  {
   "cell_type": "code",
   "execution_count": 38,
   "metadata": {
    "scrolled": true
   },
   "outputs": [
    {
     "data": {
      "text/plain": [
       "2015    36155\n",
       "2014    36112\n",
       "2016    35758\n",
       "2013    35560\n",
       "2010    35511\n",
       "2012    35450\n",
       "2011    35287\n",
       "2009    35257\n",
       "2008    35207\n",
       "2007    35137\n",
       "2017    20726\n",
       "2006     2959\n",
       "Name: Date, dtype: int64"
      ]
     },
     "execution_count": 38,
     "metadata": {},
     "output_type": "execute_result"
    }
   ],
   "source": [
    "# Counting number of records per year\n",
    "pd.to_datetime(df['Date']).dt.year.value_counts()"
   ]
  },
  {
   "cell_type": "code",
   "execution_count": 39,
   "metadata": {},
   "outputs": [],
   "source": [
    "# We can clearly see that year 2006 is incomplete with records\n",
    "# Also 2017 looks the same, probably the data was gathered mid-2017\n",
    "# 2006 should be excluded from analysis because it will give false information/trends/\n",
    "# 2017 could be used as a trend and compared to previous years but for simplicity I will exclude it from analysis"
   ]
  },
  {
   "cell_type": "code",
   "execution_count": 40,
   "metadata": {
    "scrolled": true
   },
   "outputs": [
    {
     "data": {
      "text/plain": [
       "Ticker\n",
       "@NA          2\n",
       "A          128\n",
       "AA         128\n",
       "AABA       126\n",
       "AAC         32\n",
       "AACC        66\n",
       "AAI.XX1     53\n",
       "AAL         44\n",
       "AAMC        24\n",
       "AAMRQ       61\n",
       "AAN         80\n",
       "AAN.XX1     48\n",
       "AAOI        44\n",
       "AAON       128\n",
       "AAP        128\n",
       "AAPL       128\n",
       "AAT         76\n",
       "AATI        61\n",
       "AAWW       128\n",
       "AAXN       128\n",
       "ABAT        36\n",
       "ABAX       128\n",
       "ABBC        58\n",
       "ABBV        55\n",
       "ABC        128\n",
       "ABCB       128\n",
       "ABCD        53\n",
       "ABCO       128\n",
       "ABCW        17\n",
       "ABCWQ       30\n",
       "          ... \n",
       "ZBRA       128\n",
       "ZEN         38\n",
       "ZEP         91\n",
       "ZEUS       128\n",
       "ZFGN        32\n",
       "ZG          70\n",
       "ZGEN        46\n",
       "ZGNX        80\n",
       "ZIGO        90\n",
       "ZINCQ      100\n",
       "ZION       128\n",
       "ZIOP        86\n",
       "ZIP         21\n",
       "ZIXI        98\n",
       "ZLC         64\n",
       "ZLTQ        64\n",
       "ZN          24\n",
       "ZNGA        64\n",
       "ZNT         41\n",
       "ZOES        38\n",
       "ZOLL        64\n",
       "ZOLT        87\n",
       "ZQKSQ      105\n",
       "ZRAN        57\n",
       "ZSPH        14\n",
       "ZTS         52\n",
       "ZU          22\n",
       "ZUMZ       128\n",
       "ZYNE        10\n",
       "ZZ          75\n",
       "Name: Date, Length: 5495, dtype: int64"
      ]
     },
     "execution_count": 40,
     "metadata": {},
     "output_type": "execute_result"
    }
   ],
   "source": [
    "# For curiosity I will check if all companies have the same # of records/data\n",
    "df.groupby(df.Ticker.str.strip(\"'\"))['Date'].nunique()"
   ]
  },
  {
   "cell_type": "code",
   "execution_count": 41,
   "metadata": {},
   "outputs": [],
   "source": [
    "# An interesting finding, there are differences in a number of records per company, could be for many reasons\n",
    "# we can use this knowledge for refinement in deeper analysis, for the time being let's just be aware of this"
   ]
  },
  {
   "cell_type": "code",
   "execution_count": 42,
   "metadata": {},
   "outputs": [
    {
     "data": {
      "text/html": [
       "<div>\n",
       "<style scoped>\n",
       "    .dataframe tbody tr th:only-of-type {\n",
       "        vertical-align: middle;\n",
       "    }\n",
       "\n",
       "    .dataframe tbody tr th {\n",
       "        vertical-align: top;\n",
       "    }\n",
       "\n",
       "    .dataframe thead th {\n",
       "        text-align: right;\n",
       "    }\n",
       "</style>\n",
       "<table border=\"1\" class=\"dataframe\">\n",
       "  <thead>\n",
       "    <tr style=\"text-align: right;\">\n",
       "      <th></th>\n",
       "      <th>Returns</th>\n",
       "      <th>Capitalization</th>\n",
       "      <th>Mkt_Cap</th>\n",
       "      <th>FCF_Yield</th>\n",
       "      <th>Momentum</th>\n",
       "      <th>Sales_Growth_1Y</th>\n",
       "      <th>Sales_Growth_5Y</th>\n",
       "      <th>EPS_Revision</th>\n",
       "    </tr>\n",
       "  </thead>\n",
       "  <tbody>\n",
       "    <tr>\n",
       "      <th>Returns</th>\n",
       "      <td>1.000000</td>\n",
       "      <td>NaN</td>\n",
       "      <td>-0.001339</td>\n",
       "      <td>-0.013090</td>\n",
       "      <td>-0.001583</td>\n",
       "      <td>0.001224</td>\n",
       "      <td>0.001000</td>\n",
       "      <td>0.002010</td>\n",
       "    </tr>\n",
       "    <tr>\n",
       "      <th>Capitalization</th>\n",
       "      <td>NaN</td>\n",
       "      <td>NaN</td>\n",
       "      <td>NaN</td>\n",
       "      <td>NaN</td>\n",
       "      <td>NaN</td>\n",
       "      <td>NaN</td>\n",
       "      <td>NaN</td>\n",
       "      <td>NaN</td>\n",
       "    </tr>\n",
       "    <tr>\n",
       "      <th>Mkt_Cap</th>\n",
       "      <td>-0.001339</td>\n",
       "      <td>NaN</td>\n",
       "      <td>1.000000</td>\n",
       "      <td>0.013302</td>\n",
       "      <td>0.016542</td>\n",
       "      <td>-0.001458</td>\n",
       "      <td>-0.002078</td>\n",
       "      <td>-0.000203</td>\n",
       "    </tr>\n",
       "    <tr>\n",
       "      <th>FCF_Yield</th>\n",
       "      <td>-0.013090</td>\n",
       "      <td>NaN</td>\n",
       "      <td>0.013302</td>\n",
       "      <td>1.000000</td>\n",
       "      <td>0.024217</td>\n",
       "      <td>-0.005492</td>\n",
       "      <td>-0.005630</td>\n",
       "      <td>-0.000007</td>\n",
       "    </tr>\n",
       "    <tr>\n",
       "      <th>Momentum</th>\n",
       "      <td>-0.001583</td>\n",
       "      <td>NaN</td>\n",
       "      <td>0.016542</td>\n",
       "      <td>0.024217</td>\n",
       "      <td>1.000000</td>\n",
       "      <td>0.000167</td>\n",
       "      <td>0.000215</td>\n",
       "      <td>0.000746</td>\n",
       "    </tr>\n",
       "    <tr>\n",
       "      <th>Sales_Growth_1Y</th>\n",
       "      <td>0.001224</td>\n",
       "      <td>NaN</td>\n",
       "      <td>-0.001458</td>\n",
       "      <td>-0.005492</td>\n",
       "      <td>0.000167</td>\n",
       "      <td>1.000000</td>\n",
       "      <td>0.900873</td>\n",
       "      <td>0.000002</td>\n",
       "    </tr>\n",
       "    <tr>\n",
       "      <th>Sales_Growth_5Y</th>\n",
       "      <td>0.001000</td>\n",
       "      <td>NaN</td>\n",
       "      <td>-0.002078</td>\n",
       "      <td>-0.005630</td>\n",
       "      <td>0.000215</td>\n",
       "      <td>0.900873</td>\n",
       "      <td>1.000000</td>\n",
       "      <td>0.000004</td>\n",
       "    </tr>\n",
       "    <tr>\n",
       "      <th>EPS_Revision</th>\n",
       "      <td>0.002010</td>\n",
       "      <td>NaN</td>\n",
       "      <td>-0.000203</td>\n",
       "      <td>-0.000007</td>\n",
       "      <td>0.000746</td>\n",
       "      <td>0.000002</td>\n",
       "      <td>0.000004</td>\n",
       "      <td>1.000000</td>\n",
       "    </tr>\n",
       "  </tbody>\n",
       "</table>\n",
       "</div>"
      ],
      "text/plain": [
       "                  Returns  Capitalization   Mkt_Cap  FCF_Yield  Momentum  \\\n",
       "Returns          1.000000             NaN -0.001339  -0.013090 -0.001583   \n",
       "Capitalization        NaN             NaN       NaN        NaN       NaN   \n",
       "Mkt_Cap         -0.001339             NaN  1.000000   0.013302  0.016542   \n",
       "FCF_Yield       -0.013090             NaN  0.013302   1.000000  0.024217   \n",
       "Momentum        -0.001583             NaN  0.016542   0.024217  1.000000   \n",
       "Sales_Growth_1Y  0.001224             NaN -0.001458  -0.005492  0.000167   \n",
       "Sales_Growth_5Y  0.001000             NaN -0.002078  -0.005630  0.000215   \n",
       "EPS_Revision     0.002010             NaN -0.000203  -0.000007  0.000746   \n",
       "\n",
       "                 Sales_Growth_1Y  Sales_Growth_5Y  EPS_Revision  \n",
       "Returns                 0.001224         0.001000      0.002010  \n",
       "Capitalization               NaN              NaN           NaN  \n",
       "Mkt_Cap                -0.001458        -0.002078     -0.000203  \n",
       "FCF_Yield              -0.005492        -0.005630     -0.000007  \n",
       "Momentum                0.000167         0.000215      0.000746  \n",
       "Sales_Growth_1Y         1.000000         0.900873      0.000002  \n",
       "Sales_Growth_5Y         0.900873         1.000000      0.000004  \n",
       "EPS_Revision            0.000002         0.000004      1.000000  "
      ]
     },
     "execution_count": 42,
     "metadata": {},
     "output_type": "execute_result"
    }
   ],
   "source": [
    "# Quick check on correlation across the data\n",
    "df.corr(method ='pearson') "
   ]
  },
  {
   "cell_type": "code",
   "execution_count": 43,
   "metadata": {},
   "outputs": [],
   "source": [
    "# Capitalization has a value 1, so we can disregard it, but I will not drop it for file-originality reasons."
   ]
  },
  {
   "cell_type": "code",
   "execution_count": 44,
   "metadata": {},
   "outputs": [],
   "source": [
    "# I am happy how everything looks now and let's save this work to csv file.\n",
    "df.to_csv('Cleaned_equity_data.csv')"
   ]
  },
  {
   "cell_type": "code",
   "execution_count": 45,
   "metadata": {},
   "outputs": [],
   "source": [
    "# I can visualize in Matplotlib or Seaborn, but our file is fairly small so I will use Tableau\n",
    "# END."
   ]
  }
 ],
 "metadata": {
  "kernelspec": {
   "display_name": "Python 3",
   "language": "python",
   "name": "python3"
  },
  "language_info": {
   "codemirror_mode": {
    "name": "ipython",
    "version": 3
   },
   "file_extension": ".py",
   "mimetype": "text/x-python",
   "name": "python",
   "nbconvert_exporter": "python",
   "pygments_lexer": "ipython3",
   "version": "3.7.3"
  }
 },
 "nbformat": 4,
 "nbformat_minor": 2
}
